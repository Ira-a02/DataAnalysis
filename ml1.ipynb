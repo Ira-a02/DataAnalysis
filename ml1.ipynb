{
  "nbformat": 4,
  "nbformat_minor": 0,
  "metadata": {
    "colab": {
      "provenance": [],
      "mount_file_id": "1UkwW3f3J8YO_qCcCeJeUCXJDVyOyEMXW",
      "authorship_tag": "ABX9TyOh1X+ssZ68Louam/nxMl23",
      "include_colab_link": true
    },
    "kernelspec": {
      "name": "python3",
      "display_name": "Python 3"
    },
    "language_info": {
      "name": "python"
    }
  },
  "cells": [
    {
      "cell_type": "markdown",
      "metadata": {
        "id": "view-in-github",
        "colab_type": "text"
      },
      "source": [
        "<a href=\"https://colab.research.google.com/github/Ira-a02/DataAnalysis/blob/main/ml1.ipynb\" target=\"_parent\"><img src=\"https://colab.research.google.com/assets/colab-badge.svg\" alt=\"Open In Colab\"/></a>"
      ]
    },
    {
      "cell_type": "code",
      "execution_count": null,
      "metadata": {
        "id": "vOb7HTdXcJS2"
      },
      "outputs": [],
      "source": [
        "import pandas as pd\n",
        "import seaborn as sns"
      ]
    },
    {
      "cell_type": "code",
      "source": [
        "titanic = pd.read_csv('titanic.csv', index_col='PassengerId')"
      ],
      "metadata": {
        "id": "Ey5WKH7ccLmT"
      },
      "execution_count": null,
      "outputs": []
    },
    {
      "cell_type": "markdown",
      "source": [
        "1.Какое количество мужчин и женщин ехало на корабле? В качестве ответа приведите два числа через пробел."
      ],
      "metadata": {
        "id": "FozAhFLKIHWi"
      }
    },
    {
      "cell_type": "code",
      "source": [
        "counts = titanic['Sex'].value_counts()\n",
        "male_count = counts.get('male', 0)\n",
        "female_count = counts.get('female', 0)\n",
        "print(male_count, female_count)\n",
        "\n",
        "with open('titanic_1.txt', 'w') as file:\n",
        "    file.write(f\"{male_count} {female_count}\")"
      ],
      "metadata": {
        "colab": {
          "base_uri": "https://localhost:8080/"
        },
        "id": "Q2KKY5lgfOGf",
        "outputId": "06a9d6a3-1118-4934-cb2c-79f8f3958172"
      },
      "execution_count": null,
      "outputs": [
        {
          "output_type": "stream",
          "name": "stdout",
          "text": [
            "577 314\n"
          ]
        }
      ]
    },
    {
      "cell_type": "markdown",
      "source": [
        " 2. Какой части пассажиров удалось выжить? Посчитайте долю выживших пассажиров. Ответ приведите в процентах (число в интервале от 0 до 100, знак процента не нужен), округлив до двух\n",
        " знаков"
      ],
      "metadata": {
        "id": "Ayic4mhkoXU9"
      }
    },
    {
      "cell_type": "code",
      "source": [
        "passanger_count = titanic['Survived'].value_counts()\n",
        "survived_passanger_count = passanger_count.get(1)\n",
        "unsurvived_passanger_count = passanger_count.get(0)\n",
        "total_passengers =survived_passanger_count + unsurvived_passanger_count\n",
        "interest =  round(survived_passanger_count / total_passengers ,2)*100 if total_passengers > 0 else 0\n",
        "print(interest)\n",
        "\n",
        "with open('titanic_2.txt', 'w') as file:\n",
        "    file.write(f\"{interest}\")"
      ],
      "metadata": {
        "colab": {
          "base_uri": "https://localhost:8080/"
        },
        "id": "OKvk4PqCgKKC",
        "outputId": "3cfe3c16-7e86-4d4b-e1dc-71d888126957"
      },
      "execution_count": null,
      "outputs": [
        {
          "output_type": "stream",
          "name": "stdout",
          "text": [
            "38.0\n"
          ]
        }
      ]
    },
    {
      "cell_type": "markdown",
      "source": [
        " 3. Какую долю пассажиры первого класса составляли среди всех пассажиров? Ответ приведите в процентах (число в интервале от 0 до\n",
        " 100, знак процента не нужен), округлив до двух знаков."
      ],
      "metadata": {
        "id": "GgJe9llyIwq3"
      }
    },
    {
      "cell_type": "code",
      "source": [
        "passanger_count_class = titanic['Pclass'].shape[0]\n",
        "first_class_count=titanic[titanic['Pclass'] == 1].shape[0]\n",
        "procent = round(first_class_count/passanger_count_class,2)*100\n",
        "print(procent)\n",
        "\n",
        "with open('titanic_3.txt', 'w') as file:\n",
        "    file.write(f\"{procent}\")"
      ],
      "metadata": {
        "colab": {
          "base_uri": "https://localhost:8080/"
        },
        "id": "JAKoy9jpjm8t",
        "outputId": "0a02611e-8655-43fc-feff-fc04750be7da"
      },
      "execution_count": null,
      "outputs": [
        {
          "output_type": "stream",
          "name": "stdout",
          "text": [
            "24.0\n"
          ]
        }
      ]
    },
    {
      "cell_type": "markdown",
      "source": [
        "4. Какого возраста были пассажиры? Посчитайте среднее и медиану возраста пассажиров. Посчитайте среднее и медиану возраста пассажиров. В качестве ответа приведите два числа через пробел"
      ],
      "metadata": {
        "id": "0bJ3sS_VI3RY"
      }
    },
    {
      "cell_type": "code",
      "source": [
        "mean_age = titanic['Age'].mean()\n",
        "median_age = titanic['Age'].median()\n",
        "print(f\"{mean_age:.2f} {median_age:.2f}\")\n",
        "\n",
        "with open('titanic_4.txt', 'w') as file:\n",
        "    file.write(f\"{mean_age:.2f} {median_age:.2f}\")"
      ],
      "metadata": {
        "colab": {
          "base_uri": "https://localhost:8080/"
        },
        "id": "ZCt3l0kimz3l",
        "outputId": "b191aa1a-4648-41dc-e819-de625fba6bf2"
      },
      "execution_count": null,
      "outputs": [
        {
          "output_type": "stream",
          "name": "stdout",
          "text": [
            "29.70 28.00\n"
          ]
        }
      ]
    },
    {
      "cell_type": "markdown",
      "source": [
        " 5. Коррелируют ли число братьев/сестер с числом родителей/детей?\n",
        " Посчитайте корреляцию Пирсона между признаками SibSp и Parch"
      ],
      "metadata": {
        "id": "fZZyJizOI9-K"
      }
    },
    {
      "cell_type": "code",
      "source": [
        "data = titanic[['SibSp','Parch']]\n",
        "cor = titanic['SibSp'].corr(titanic['Parch'])\n",
        "cor\n",
        "\n",
        "with open('titanic_5.txt', 'w') as file:\n",
        "    file.write(f\"{cor}\")"
      ],
      "metadata": {
        "id": "Ns7uOvxK1j7C"
      },
      "execution_count": null,
      "outputs": []
    },
    {
      "cell_type": "markdown",
      "source": [
        " 6. Какое самое популярное женское имя на корабле?"
      ],
      "metadata": {
        "id": "Q2ijlQAVJB5L"
      }
    },
    {
      "cell_type": "code",
      "source": [
        "import re\n",
        "\n",
        "\n",
        "data_female_name = titanic[titanic['Sex'] == 'female']\n",
        "\n",
        "first_names = []\n",
        "name_counts = {}\n",
        "\n",
        "for name in data_female_name['Name']:\n",
        "    miss_match = re.search(r'Miss\\.\\s*(\\w+)', name)\n",
        "    if miss_match:\n",
        "        first_name = miss_match.group(1)\n",
        "        first_names.append(first_name)\n",
        "    else:\n",
        "        bracket_match = re.search(r'\\((\\w+)', name)\n",
        "        if bracket_match:\n",
        "            first_name = bracket_match.group(1).split()[0]\n",
        "            first_names.append(first_name)\n",
        "\n",
        "for name in first_names:\n",
        "    if name in name_counts:\n",
        "        name_counts[name] += 1\n",
        "    else:\n",
        "        name_counts[name] = 1\n",
        "\n",
        "most_common_name = None\n",
        "max_count = 0\n",
        "\n",
        "for name, count in name_counts.items():\n",
        "    if count > max_count:\n",
        "        max_count = count\n",
        "        most_common_name = name\n",
        "\n",
        "print(most_common_name)\n",
        "\n",
        "with open('titanic_6.txt', 'w') as file:\n",
        "    file.write(f\"{most_common_name}\")"
      ],
      "metadata": {
        "colab": {
          "base_uri": "https://localhost:8080/"
        },
        "id": "ZAfqSE0x5mOV",
        "outputId": "99be5cc6-9bc9-45ab-e949-d61fd81e665b"
      },
      "execution_count": null,
      "outputs": [
        {
          "output_type": "stream",
          "name": "stdout",
          "text": [
            "Anna\n"
          ]
        }
      ]
    },
    {
      "cell_type": "code",
      "source": [],
      "metadata": {
        "id": "JEzvLib7Kb4N"
      },
      "execution_count": null,
      "outputs": []
    }
  ]
}