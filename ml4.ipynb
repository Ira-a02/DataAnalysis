{
  "nbformat": 4,
  "nbformat_minor": 0,
  "metadata": {
    "colab": {
      "provenance": [],
      "authorship_tag": "ABX9TyOeAWUGrabJc2HpfPb7zu/r",
      "include_colab_link": true
    },
    "kernelspec": {
      "name": "python3",
      "display_name": "Python 3"
    },
    "language_info": {
      "name": "python"
    }
  },
  "cells": [
    {
      "cell_type": "markdown",
      "metadata": {
        "id": "view-in-github",
        "colab_type": "text"
      },
      "source": [
        "<a href=\"https://colab.research.google.com/github/Ira-a02/DataAnalysis/blob/main/ml4.ipynb\" target=\"_parent\"><img src=\"https://colab.research.google.com/assets/colab-badge.svg\" alt=\"Open In Colab\"/></a>"
      ]
    },
    {
      "cell_type": "code",
      "execution_count": 23,
      "metadata": {
        "id": "0tQj3wQ-ETVP"
      },
      "outputs": [],
      "source": [
        "import pandas as pd\n",
        "import numpy as np\n",
        "from sklearn.neighbors import KNeighborsRegressor\n",
        "from sklearn.preprocessing import scale\n",
        "#from sklearn.datasets import load_boston\n",
        "from sklearn.model_selection import KFold\n",
        "from sklearn.model_selection import cross_val_score"
      ]
    },
    {
      "cell_type": "markdown",
      "source": [
        " 1. Загрузите выборку Boston с помощьюфункцииsklearn.datasets.load_boston().\n",
        " Результатом вызова данной функции является объект, у которого\n",
        " признаки записаны в поле data, а целевой вектор в поле target."
      ],
      "metadata": {
        "id": "rdk92s99IAta"
      }
    },
    {
      "cell_type": "code",
      "source": [
        "data_url = \"http://lib.stat.cmu.edu/datasets/boston\"\n",
        "df = pd.read_csv(data_url, sep=\"\\s+\", skiprows=22, header=None)\n",
        "data = np.hstack([df.values[::2, :], df.values[1::2, :2]])\n",
        "target = df.values[1::2, 2]"
      ],
      "metadata": {
        "id": "1kNl7rq8HauM"
      },
      "execution_count": 18,
      "outputs": []
    },
    {
      "cell_type": "markdown",
      "source": [
        " 2. Приведите признаки в выборке к одному масштабу при помощи\n",
        " функции sklearn.preprocessing.scale"
      ],
      "metadata": {
        "id": "jBMnG95FIGpo"
      }
    },
    {
      "cell_type": "code",
      "source": [
        "data=scale(data)"
      ],
      "metadata": {
        "id": "ID8qb6QpIFkD"
      },
      "execution_count": 21,
      "outputs": []
    },
    {
      "cell_type": "markdown",
      "source": [
        " 3. Переберите разные варианты параметра метрики p по сетке от 1 до\n",
        " 10 с таким шагом, чтобы всего было протестировано 200 вариантов\n",
        " (используйте функцию numpy.linspace). Используйте KNeighborsRegressor\n",
        " с n_neighbors=5 и weights=’distance’ данный параметр добавляет\n",
        " в алгоритм веса, зависящие от расстояния до ближайших соседей. В\n",
        " качестве метрики качества используйте среднеквадратичную ошиб\n",
        "ку (параметр scoring=’mean_squared_error’ у cross_val_score; при\n",
        " использовании библиотеки scikit-learn версии 18.0.1 и выше необхо\n",
        "димо указывать scoring=’neg_mean_squared_error’). Качество оце\n",
        "нивайте, как и в предыдущем задании, с помощью кросс-валидации\n",
        " по 5 блокам с random_state = 42, не забудьте включить перемеши\n",
        "вание выборки (shuffle=True)\n",
        " 4. Определите, при каком p качество на кросс-валидации оказалось\n",
        " оптимальным. Обратите внимание, что cross_val_score возвращает массив показателей качества по блокам; необходимо максимизи\n",
        "ровать среднее этих показателей."
      ],
      "metadata": {
        "id": "FECoJl5VIsDC"
      }
    },
    {
      "cell_type": "code",
      "source": [
        "p_val=np.linspace(1,10,200)\n",
        "p_best = None\n",
        "mse_best = -float('inf')\n",
        "folds=KFold(n_splits=5,shuffle=True,random_state=42)\n",
        "for i in p_val:\n",
        "  model=KNeighborsRegressor(n_neighbors=5, weights='distance', p=i, metric='minkowski')\n",
        "  mse=cross_val_score(model, data, target, cv=folds, scoring='neg_mean_squared_error').mean()\n",
        "  if mse_best < mse:\n",
        "    mse_best=mse\n",
        "    p_best=i\n",
        "with open('boston_1.txt', 'w') as file:\n",
        "    file.write(f\"{p_best}\")"
      ],
      "metadata": {
        "id": "iWgbV-57F6qn"
      },
      "execution_count": 49,
      "outputs": []
    }
  ]
}